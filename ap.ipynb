{
 "cells": [
  {
   "cell_type": "markdown",
   "metadata": {},
   "source": [
    "## Import Flask Libraries"
   ]
  },
  {
   "cell_type": "code",
   "execution_count": 29,
   "metadata": {},
   "outputs": [],
   "source": [
    "from flask import Flask, request, jsonify\n",
    "from flask_restful import Api, Resource\n",
    "from youtube_transcript_api import YouTubeTranscriptApi\n",
    "from youtube_transcript_api._errors import TranscriptsDisabled, NoTranscriptFound, VideoUnavailable\n",
    "from flask_ngrok import run_with_ngrok  #needed for jupyter notebook\n",
    "from flask_cors import CORS"
   ]
  },
  {
   "cell_type": "markdown",
   "metadata": {},
   "source": [
    "## Import Transformers"
   ]
  },
  {
   "cell_type": "code",
   "execution_count": 30,
   "metadata": {},
   "outputs": [],
   "source": [
    "from transformers import pipeline   #this import may hang sometimes\n",
    "import re"
   ]
  },
  {
   "cell_type": "markdown",
   "metadata": {},
   "source": [
    "## Write the Summarizing Code"
   ]
  },
  {
   "cell_type": "code",
   "execution_count": 27,
   "metadata": {},
   "outputs": [],
   "source": [
    "app = Flask(__name__)\n",
    "CORS(app)  # Enable CORS for all routes\n",
    "api = Api(app)\n",
    "\n",
    "#start with simple hello world program to test the api\n",
    "class HelloWorld(Resource):\n",
    "    def get(self):\n",
    "        return {'hello': 'world'}\n",
    "\n",
    "class GenerateAndSummarize(Resource):\n",
    "    def extract_video_id(self, youtube_url):\n",
    "        # Regex to extract video id from various YouTube URL formats\n",
    "        video_id_match = re.match(r'(?:https?://)?(?:www\\.)?(?:youtube\\.com/(?:[^/]+/.+/|(?:v|e(?:mbed)?)|.*[?&]v=)|youtu\\.be/)([^\"&?/ ]{11})', youtube_url)\n",
    "        return video_id_match.group(1) if video_id_match else None\n",
    "    \n",
    "    #function for get request\n",
    "    def get(self):\n",
    "        youtube_url = request.args.get('youtube_url')\n",
    "        if not youtube_url:\n",
    "            return jsonify({\"error\": \"No YouTube URL provided\"}), 400\n",
    "        \n",
    "        # Extract the video ID from the YouTube URL\n",
    "        video_id = self.extract_video_id(youtube_url)\n",
    "        if not video_id:\n",
    "            return jsonify({\"error\": \"Invalid YouTube URL\"}), 400\n",
    "        \n",
    "        try:\n",
    "            # Fetch the transcript\n",
    "            transcript_list = YouTubeTranscriptApi.get_transcript(video_id)\n",
    "            full_transcript = \" \".join(entry['text'] for entry in transcript_list)\n",
    "            \n",
    "            # Summarize the transcript\n",
    "            summarization = pipeline(\"summarization\", model=\"facebook/bart-large-cnn\")\n",
    "            summary_texts = []\n",
    "            batch_size = 1000  # Adjust the batch size as needed\n",
    "            \n",
    "            # Split the transcript into smaller batches and process each batch\n",
    "            for i in range(0, len(full_transcript), batch_size):\n",
    "                batch = full_transcript[i:i + batch_size]\n",
    "                summary_text = summarization(batch, max_length=120, min_length=30, do_sample=False)[0]['summary_text']\n",
    "                summary_texts.append(summary_text)\n",
    "            \n",
    "            # Concatenate the summaries from all batches\n",
    "            full_summary = ' '.join(summary_texts)\n",
    "            return jsonify({\"summary\": full_summary})\n",
    "        \n",
    "        except (TranscriptsDisabled, NoTranscriptFound, VideoUnavailable) as e:\n",
    "            return jsonify({\"error\": str(e)}), 404\n",
    "\n",
    "api.add_resource(GenerateAndSummarize, '/api/summarize')\n",
    "api.add_resource(HelloWorld, '/')\n",
    "\n"
   ]
  },
  {
   "cell_type": "markdown",
   "metadata": {},
   "source": [
    "## Run Your Server "
   ]
  },
  {
   "cell_type": "code",
   "execution_count": 31,
   "metadata": {},
   "outputs": [
    {
     "name": "stdout",
     "output_type": "stream",
     "text": [
      " * Serving Flask app '__main__'\n",
      " * Debug mode: off\n"
     ]
    },
    {
     "name": "stderr",
     "output_type": "stream",
     "text": [
      "\u001b[31m\u001b[1mWARNING: This is a development server. Do not use it in a production deployment. Use a production WSGI server instead.\u001b[0m\n",
      " * Running on http://127.0.0.1:5000\n",
      "\u001b[33mPress CTRL+C to quit\u001b[0m\n"
     ]
    }
   ],
   "source": [
    "if __name__ == '__main__':\n",
    "    app.run()\n"
   ]
  }
 ],
 "metadata": {
  "kernelspec": {
   "display_name": "venv",
   "language": "python",
   "name": "python3"
  },
  "language_info": {
   "codemirror_mode": {
    "name": "ipython",
    "version": 3
   },
   "file_extension": ".py",
   "mimetype": "text/x-python",
   "name": "python",
   "nbconvert_exporter": "python",
   "pygments_lexer": "ipython3",
   "version": "3.9.13"
  }
 },
 "nbformat": 4,
 "nbformat_minor": 2
}
